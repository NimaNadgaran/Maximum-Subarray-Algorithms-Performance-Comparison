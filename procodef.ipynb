{
 "cells": [
  {
   "metadata": {
    "ExecuteTime": {
     "end_time": "2025-10-04T21:42:42.570217Z",
     "start_time": "2025-10-04T21:42:42.553440Z"
    }
   },
   "cell_type": "code",
   "source": [
    "import time\n",
    "import random\n",
    "import pandas as pd\n",
    "import numpy as np\n",
    "import matplotlib as mpl"
   ],
   "id": "53205e8fcd219982",
   "outputs": [],
   "execution_count": 30
  },
  {
   "metadata": {
    "ExecuteTime": {
     "end_time": "2025-10-04T21:42:42.642130Z",
     "start_time": "2025-10-04T21:42:42.595272Z"
    }
   },
   "cell_type": "code",
   "source": [
    "# Example\n",
    "# arr = [-2, 1, -3, 4, -1, 2, 1, -5, 4]\n",
    "# The answer for this example is 6"
   ],
   "id": "b8892036668bf39e",
   "outputs": [],
   "execution_count": 31
  },
  {
   "metadata": {},
   "cell_type": "markdown",
   "source": [
    "1. Brute Force (O(n³))\n",
    "\n",
    "Check all possible subarrays using three nested loops.\n",
    "\n",
    "For each subarray, compute the sum and track the maximum."
   ],
   "id": "f4d907c1b939e69f"
  },
  {
   "metadata": {
    "tags": [],
    "ExecuteTime": {
     "end_time": "2025-10-04T21:42:42.654825Z",
     "start_time": "2025-10-04T21:42:42.642130Z"
    }
   },
   "cell_type": "code",
   "source": [
    "# O(n^3) brute force\n",
    "def max_subarray_n3(arr):\n",
    "    n = len(arr)\n",
    "    max_sum = float('-inf')\n",
    "    for i in range(n):\n",
    "        for j in range(i, n):\n",
    "            current_sum = 0\n",
    "            for k in range(i, j + 1):\n",
    "                current_sum += arr[k]\n",
    "            max_sum = max(max_sum, current_sum)\n",
    "    return max_sum\n",
    "\n",
    "# Example\n",
    "# print(max_subarray_n3([-2, 1, -3, 4, -1, 2, 1, -5, 4]))  # 6\n"
   ],
   "id": "a8c1cf39b022c0f0",
   "outputs": [],
   "execution_count": 32
  },
  {
   "metadata": {},
   "cell_type": "markdown",
   "source": [
    "2. Improved Brute Force (O(n²))\n",
    "\n",
    "Avoid recomputing sums from scratch.\n",
    "\n",
    "Use two loops: extend the subarray and keep updating the sum."
   ],
   "id": "31bfd764f0dd2803"
  },
  {
   "metadata": {
    "ExecuteTime": {
     "end_time": "2025-10-04T21:42:42.676178Z",
     "start_time": "2025-10-04T21:42:42.667778Z"
    }
   },
   "cell_type": "code",
   "source": [
    "# O(n^2) improved brute force\n",
    "def max_subarray_n2(arr):\n",
    "    n = len(arr)\n",
    "    max_sum = float('-inf')\n",
    "    for i in range(n):\n",
    "        current_sum = 0\n",
    "        for j in range(i, n):\n",
    "            current_sum += arr[j]\n",
    "            max_sum = max(max_sum, current_sum)\n",
    "    return max_sum\n",
    "\n",
    "# Example\n",
    "# print(max_subarray_n2([-2, 1, -3, 4, -1, 2, 1, -5, 4]))  # 6\n"
   ],
   "id": "f422572bdf1aacd0",
   "outputs": [],
   "execution_count": 33
  },
  {
   "metadata": {},
   "cell_type": "markdown",
   "source": [
    "3. Bentley’s Algorithm (O(n log n))\n",
    "\n",
    "This is the Divide and Conquer approach, described by Jon Bentley (and later refined into Kadane’s O(n) algorithm).\n",
    "\n",
    "Idea:\n",
    "Divide the array into two halves.\n",
    "The maximum subarray is either:\n",
    "Entirely in the left half,\n",
    "Entirely in the right half,\n",
    "Or crossing the midpoint.\n",
    "We recursively compute these."
   ],
   "id": "96154f5a96805fd0"
  },
  {
   "metadata": {
    "ExecuteTime": {
     "end_time": "2025-10-04T21:42:42.705477Z",
     "start_time": "2025-10-04T21:42:42.689680Z"
    }
   },
   "cell_type": "code",
   "source": [
    "# O(n log n) divide & conquer (Bentley)\n",
    "def max_crossing_sum(arr, left, mid, right):\n",
    "    left_sum = float('-inf')\n",
    "    total = 0\n",
    "    for i in range(mid, left - 1, -1):\n",
    "        total += arr[i]\n",
    "        left_sum = max(left_sum, total)\n",
    "\n",
    "    right_sum = float('-inf')\n",
    "    total = 0\n",
    "    for i in range(mid + 1, right + 1):\n",
    "        total += arr[i]\n",
    "        right_sum = max(right_sum, total)\n",
    "\n",
    "    return left_sum + right_sum\n",
    "\n",
    "def max_subarray_divide_conquer(arr, left, right):\n",
    "    if left == right:\n",
    "        return arr[left]\n",
    "\n",
    "    mid = (left + right) // 2\n",
    "\n",
    "    return max(\n",
    "        max_subarray_divide_conquer(arr, left, mid),\n",
    "        max_subarray_divide_conquer(arr, mid + 1, right),\n",
    "        max_crossing_sum(arr, left, mid, right)\n",
    "    )\n",
    "\n",
    "def max_subarray_nlogn(arr):\n",
    "    return max_subarray_divide_conquer(arr, 0, len(arr) - 1)\n",
    "\n",
    "# Example\n",
    "# print(max_subarray_nlogn([-2, 1, -3, 4, -1, 2, 1, -5, 4]))  # 6"
   ],
   "id": "1e653b988db537f5",
   "outputs": [],
   "execution_count": 34
  },
  {
   "metadata": {},
   "cell_type": "markdown",
   "source": [
    "4. Kadane’s Algorithm (O(n))\n",
    "\n",
    "Idea:\n",
    "Traverse the array once.\n",
    "At each index, decide whether to:\n",
    "    extend the current subarray, or\n",
    "    start a new subarray at this element.\n",
    "Keep track of the maximum seen so far.\n",
    "\n",
    "Complexity:\n",
    "Time: O(n)\n",
    "Space: O(1)\n",
    "It’s the fastest known solution for maximum subarray sum and is what most people use in practice."
   ],
   "id": "7de9e95add03990"
  },
  {
   "metadata": {
    "ExecuteTime": {
     "end_time": "2025-10-04T21:42:42.747641Z",
     "start_time": "2025-10-04T21:42:42.730433Z"
    }
   },
   "cell_type": "code",
   "source": [
    "def kadane(arr):\n",
    "    max_sum = current_sum = arr[0]\n",
    "    for x in arr[1:]:\n",
    "        current_sum = max(x, current_sum + x)\n",
    "        max_sum = max(max_sum, current_sum)\n",
    "    return max_sum\n",
    "\n",
    "# Example\n",
    "# print(kadane([-2, 1, -3, 4, -1, 2, 1, -5, 4]))  # 6\n"
   ],
   "id": "ce00f4be886b1b7",
   "outputs": [],
   "execution_count": 35
  },
  {
   "metadata": {
    "ExecuteTime": {
     "end_time": "2025-10-04T21:42:42.784982Z",
     "start_time": "2025-10-04T21:42:42.769717Z"
    }
   },
   "cell_type": "code",
   "source": [
    "# Benchmark function\n",
    "def benchmark(func, arr):\n",
    "    start = time.time()\n",
    "    result = func(arr)\n",
    "    end = time.time()\n",
    "    return result, end - start"
   ],
   "id": "1f928ce615191731",
   "outputs": [],
   "execution_count": 36
  },
  {
   "metadata": {
    "ExecuteTime": {
     "end_time": "2025-10-04T21:42:54.225233Z",
     "start_time": "2025-10-04T21:42:52.377373Z"
    }
   },
   "cell_type": "code",
   "source": [
    "# --- main code ---\n",
    "if __name__ == \"__main__\":\n",
    "    n_list = [200, 300,400]\n",
    "    functions = [max_subarray_n3, max_subarray_n2, max_subarray_nlogn, kadane]\n",
    "    # functions = [max_subarray_nlogn, kadane]\n",
    "\n",
    "    # Initialize empty data dictionary\n",
    "    data = {f\"n={n}\": [] for n in n_list}\n",
    "\n",
    "    for n in n_list:\n",
    "        arr = [random.randint(-100, 100) for _ in range(n)]\n",
    "        times = []\n",
    "        for f in functions:\n",
    "            res, t = benchmark(f, arr)\n",
    "            print(f\"{f.__name__}: result={res}, time={t:.6f} seconds\")\n",
    "            times.append(t)\n",
    "        # Add times for this n\n",
    "        for i, f in enumerate(functions):\n",
    "            if len(data[f\"n={n}\"]) < len(functions):\n",
    "                data[f\"n={n}\"].append(times[i])\n",
    "\n",
    "    # Create DataFrame\n",
    "    df = pd.DataFrame(data, index=[\"O(n³)\", \"O(n²)\", \"O(n log n)\", \"Kadane O(n)\"])\n",
    "\n",
    "    # Display nicely formatted\n",
    "    display(\n",
    "        df.style\n",
    "          .format(precision=3, thousands=\".\", decimal=\",\")\n",
    "          .format_index(str.upper, axis=1)\n",
    "          .relabel_index([\"brute_force_O(n^3)\", \"brute_force_O(n^2)\", \"Bentley\", \"kadane\"], axis=0)\n",
    "    )"
   ],
   "id": "c8b5626e84b57360",
   "outputs": [
    {
     "name": "stdout",
     "output_type": "stream",
     "text": [
      "max_subarray_n3: result=828, time=0.140873 seconds\n",
      "max_subarray_n2: result=828, time=0.000000 seconds\n",
      "max_subarray_nlogn: result=828, time=0.015652 seconds\n",
      "kadane: result=828, time=0.000000 seconds\n",
      "max_subarray_n3: result=997, time=0.545458 seconds\n",
      "max_subarray_n2: result=997, time=0.015608 seconds\n",
      "max_subarray_nlogn: result=997, time=0.000000 seconds\n",
      "kadane: result=997, time=0.000000 seconds\n",
      "max_subarray_n3: result=1377, time=1.083542 seconds\n",
      "max_subarray_n2: result=1377, time=0.031205 seconds\n",
      "max_subarray_nlogn: result=1377, time=0.000000 seconds\n",
      "kadane: result=1377, time=0.000000 seconds\n"
     ]
    },
    {
     "data": {
      "text/plain": [
       "<pandas.io.formats.style.Styler at 0x2ce3e6b6690>"
      ],
      "text/html": [
       "<style type=\"text/css\">\n",
       "</style>\n",
       "<table id=\"T_4c48e\">\n",
       "  <thead>\n",
       "    <tr>\n",
       "      <th class=\"blank level0\" >&nbsp;</th>\n",
       "      <th id=\"T_4c48e_level0_col0\" class=\"col_heading level0 col0\" >N=200</th>\n",
       "      <th id=\"T_4c48e_level0_col1\" class=\"col_heading level0 col1\" >N=300</th>\n",
       "      <th id=\"T_4c48e_level0_col2\" class=\"col_heading level0 col2\" >N=400</th>\n",
       "    </tr>\n",
       "  </thead>\n",
       "  <tbody>\n",
       "    <tr>\n",
       "      <th id=\"T_4c48e_level0_row0\" class=\"row_heading level0 row0\" >brute_force_O(n^3)</th>\n",
       "      <td id=\"T_4c48e_row0_col0\" class=\"data row0 col0\" >0,141</td>\n",
       "      <td id=\"T_4c48e_row0_col1\" class=\"data row0 col1\" >0,545</td>\n",
       "      <td id=\"T_4c48e_row0_col2\" class=\"data row0 col2\" >1,084</td>\n",
       "    </tr>\n",
       "    <tr>\n",
       "      <th id=\"T_4c48e_level0_row1\" class=\"row_heading level0 row1\" >brute_force_O(n^2)</th>\n",
       "      <td id=\"T_4c48e_row1_col0\" class=\"data row1 col0\" >0,000</td>\n",
       "      <td id=\"T_4c48e_row1_col1\" class=\"data row1 col1\" >0,016</td>\n",
       "      <td id=\"T_4c48e_row1_col2\" class=\"data row1 col2\" >0,031</td>\n",
       "    </tr>\n",
       "    <tr>\n",
       "      <th id=\"T_4c48e_level0_row2\" class=\"row_heading level0 row2\" >Bentley</th>\n",
       "      <td id=\"T_4c48e_row2_col0\" class=\"data row2 col0\" >0,016</td>\n",
       "      <td id=\"T_4c48e_row2_col1\" class=\"data row2 col1\" >0,000</td>\n",
       "      <td id=\"T_4c48e_row2_col2\" class=\"data row2 col2\" >0,000</td>\n",
       "    </tr>\n",
       "    <tr>\n",
       "      <th id=\"T_4c48e_level0_row3\" class=\"row_heading level0 row3\" >kadane</th>\n",
       "      <td id=\"T_4c48e_row3_col0\" class=\"data row3 col0\" >0,000</td>\n",
       "      <td id=\"T_4c48e_row3_col1\" class=\"data row3 col1\" >0,000</td>\n",
       "      <td id=\"T_4c48e_row3_col2\" class=\"data row3 col2\" >0,000</td>\n",
       "    </tr>\n",
       "  </tbody>\n",
       "</table>\n"
      ]
     },
     "metadata": {},
     "output_type": "display_data"
    }
   ],
   "execution_count": 38
  },
  {
   "metadata": {},
   "cell_type": "code",
   "outputs": [],
   "execution_count": null,
   "source": [
    "\"\"\"\n",
    "======================================================================\n",
    "        MAXIMUM SUBARRAY PROBLEM — BENCHMARK AND COMPARISON\n",
    "======================================================================\n",
    "\n",
    "Author: Nima Nadgaran, AmirHosein Shabani\n",
    "Description:\n",
    "------------\n",
    "This program demonstrates and benchmarks four different algorithms\n",
    "for solving the **Maximum Subarray Sum Problem**, also known as\n",
    "**Bentley’s Problem**.\n",
    "\n",
    "The goal is to find the contiguous subarray within a one-dimensional\n",
    "array of numbers that has the largest sum.\n",
    "\n",
    "Example:\n",
    "---------\n",
    "Given the array:\n",
    "    arr = [-2, 1, -3, 4, -1, 2, 1, -5, 4]\n",
    "\n",
    "The maximum subarray is [4, -1, 2, 1] with sum = 6.\n",
    "\n",
    "----------------------------------------------------------------------\n",
    "Implemented Algorithms:\n",
    "----------------------------------------------------------------------\n",
    "\n",
    "1. **Brute Force (O(n³))**\n",
    "   - Checks every possible subarray using three nested loops.\n",
    "   - For each subarray, computes its sum independently.\n",
    "   - This is the slowest approach and quickly becomes impractical\n",
    "     for large input sizes.\n",
    "\n",
    "2. **Improved Brute Force (O(n²))**\n",
    "   - Reduces redundant summations by maintaining a running sum\n",
    "     while expanding subarrays.\n",
    "   - Still uses two nested loops but avoids the third one.\n",
    "   - Significantly faster than O(n³), but still quadratic growth.\n",
    "\n",
    "3. **Bentley’s Divide & Conquer Method (O(n log n))**\n",
    "   - Recursively splits the array into two halves.\n",
    "   - The maximum subarray can be:\n",
    "       a) Entirely in the left half,\n",
    "       b) Entirely in the right half, or\n",
    "       c) Crossing the middle.\n",
    "   - Combines results from subproblems to find the global maximum.\n",
    "   - This is a classic “divide and conquer” approach.\n",
    "\n",
    "4. **Kadane’s Algorithm (O(n))**\n",
    "   - The most efficient and elegant solution.\n",
    "   - Scans the array once, at each step deciding whether to\n",
    "     extend the current subarray or start a new one.\n",
    "   - Uses dynamic programming principles with O(1) extra space.\n",
    "   - Invented by Jay Kadane and popularized by Jon Bentley.\n",
    "\n",
    "----------------------------------------------------------------------\n",
    "Benchmarking:\n",
    "----------------------------------------------------------------------\n",
    "\n",
    "Each algorithm is tested with arrays of increasing size (e.g., 400,\n",
    "1000, 5000 elements). For each array:\n",
    "- Random integers are generated between -100 and 100.\n",
    "- Each algorithm is executed once.\n",
    "- Execution time is measured using Python’s `time` library.\n",
    "\n",
    "A formatted Pandas DataFrame summarizes the results, displaying\n",
    "the execution time of each algorithm for different input sizes.\n",
    "Additionally, the code can visualize the timing results with Matplotlib.\n",
    "\n",
    "**Expected Behavior:**\n",
    "- All algorithms produce the same maximum subarray sum (correctness).\n",
    "- Execution time drastically decreases from O(n³) → O(n²) → O(n log n) → O(n).\n",
    "- Kadane’s algorithm is practically instantaneous even for large arrays.\n",
    "\n",
    "----------------------------------------------------------------------\n",
    "Timing Precision Note:\n",
    "----------------------------------------------------------------------\n",
    "Since O(n log n) and O(n) algorithms execute extremely fast, their\n",
    "runtime might appear as 0.000000 seconds in coarse timing.\n",
    "To improve accuracy, one can use Python’s `timeit` module and\n",
    "average multiple runs for better precision.\n",
    "\n",
    "----------------------------------------------------------------------\n",
    "Summary:\n",
    "----------------------------------------------------------------------\n",
    "| Algorithm        | Time Complexity | Key Idea                     | Practicality         |\n",
    "|------------------|-----------------|------------------------------|----------------------|\n",
    "| Brute Force      | O(n³)           | Check all subarrays          | Educational only     |\n",
    "| Improved Brute   | O(n²)           | Reuse partial sums           | Small inputs only    |\n",
    "| Divide & Conquer | O(n log n)      | Split array recursively      | Decent performance   |\n",
    "| Kadane           | O(n)            | Dynamic extension decision   | Best practical use   |\n",
    "\n",
    "----------------------------------------------------------------------\n",
    "References:\n",
    "----------------------------------------------------------------------\n",
    "- Jon Bentley, \"Programming Pearls\", 1986\n",
    "- Jay Kadane, Carnegie Mellon University, 1984\n",
    "- CLRS: Introduction to Algorithms, Chapter on Dynamic Programming\n",
    "======================================================================\n",
    "\"\"\"\n"
   ],
   "id": "3668db47dded0873"
  },
  {
   "metadata": {},
   "cell_type": "markdown",
   "source": "",
   "id": "3f0f95ba79df161f"
  },
  {
   "metadata": {},
   "cell_type": "code",
   "outputs": [],
   "execution_count": null,
   "source": "",
   "id": "8f7cda521a4be6da"
  }
 ],
 "metadata": {
  "kernelspec": {
   "display_name": "Python 3",
   "language": "python",
   "name": "python3"
  },
  "language_info": {
   "codemirror_mode": {
    "name": "ipython",
    "version": 2
   },
   "file_extension": ".py",
   "mimetype": "text/x-python",
   "name": "python",
   "nbconvert_exporter": "python",
   "pygments_lexer": "ipython2",
   "version": "2.7.6"
  }
 },
 "nbformat": 4,
 "nbformat_minor": 5
}
